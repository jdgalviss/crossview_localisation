{
 "cells": [
  {
   "cell_type": "code",
   "execution_count": 1,
   "metadata": {},
   "outputs": [
    {
     "name": "stderr",
     "output_type": "stream",
     "text": [
      "/usr/local/lib/python3.5/dist-packages/h5py/__init__.py:36: FutureWarning: Conversion of the second argument of issubdtype from `float` to `np.floating` is deprecated. In future, it will be treated as `np.float64 == np.dtype(float).type`.\n",
      "  from ._conv import register_converters as _register_converters\n"
     ]
    }
   ],
   "source": [
    "import cvm_inference\n",
    "import numpy as np\n",
    "import os.path"
   ]
  },
  {
   "cell_type": "markdown",
   "metadata": {},
   "source": [
    "### Create instance of the inference object"
   ]
  },
  {
   "cell_type": "code",
   "execution_count": 2,
   "metadata": {},
   "outputs": [
    {
     "name": "stdout",
     "output_type": "stream",
     "text": [
      "VGG16: trainable = False\n",
      "VGG16: trainable = False\n",
      "Siamese_FC: dim_reduction  trainable = False\n",
      "CVMInference object created\n"
     ]
    }
   ],
   "source": [
    "inference = cvm_inference.CVMInference()"
   ]
  },
  {
   "cell_type": "markdown",
   "metadata": {},
   "source": [
    "### Extract decriptors from each satellite image (Only needs to be run the first time)"
   ]
  },
  {
   "cell_type": "code",
   "execution_count": 4,
   "metadata": {},
   "outputs": [
    {
     "name": "stdout",
     "output_type": "stream",
     "text": [
      "Calculating aerial file descriptors. This might take some time...\n",
      "loading model...\n",
      "INFO:tensorflow:Restoring parameters from ../Model/CVM-NET-I/0/model.ckpt\n",
      "   Model loaded from: ../Model/CVM-NET-I/0/model.ckpt\n",
      "load model...FINISHED\n",
      "validate...\n",
      "   compute global descriptors\n",
      "(5, 4096)\n"
     ]
    }
   ],
   "source": [
    "filename = 'sat_descriptors_dubai2.npz'\n",
    "if os.path.isfile(filename):\n",
    "    print (\"Aerial Descriptors file already exists\")\n",
    "else:\n",
    "    print (\"Calculating aerial file descriptors. This might take some time...\")\n",
    "    sat_descriptors = inference.forward(inference.load_images(is_ground = False), is_ground = False)\n",
    "    np.savez(filename, sat_descriptors)\n",
    "    print(sat_descriptors.shape)"
   ]
  },
  {
   "cell_type": "code",
   "execution_count": null,
   "metadata": {},
   "outputs": [],
   "source": []
  }
 ],
 "metadata": {
  "kernelspec": {
   "display_name": "Python 3",
   "language": "python",
   "name": "python3"
  },
  "language_info": {
   "codemirror_mode": {
    "name": "ipython",
    "version": 3
   },
   "file_extension": ".py",
   "mimetype": "text/x-python",
   "name": "python",
   "nbconvert_exporter": "python",
   "pygments_lexer": "ipython3",
   "version": "3.5.2"
  }
 },
 "nbformat": 4,
 "nbformat_minor": 2
}
